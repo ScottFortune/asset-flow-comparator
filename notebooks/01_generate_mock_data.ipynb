{
 "cells": [
  {
   "cell_type": "markdown",
   "metadata": {},
   "source": [
    "# Setup and Imports"
   ]
  },
  {
   "cell_type": "code",
   "execution_count": 9,
   "metadata": {},
   "outputs": [
    {
     "name": "stdout",
     "output_type": "stream",
     "text": [
      "The autoreload extension is already loaded. To reload it, use:\n",
      "  %reload_ext autoreload\n"
     ]
    }
   ],
   "source": [
    "%load_ext autoreload\n",
    "%autoreload 2"
   ]
  },
  {
   "cell_type": "code",
   "execution_count": 10,
   "metadata": {},
   "outputs": [],
   "source": [
    "import pandas as pd\n",
    "import numpy as np\n",
    "import matplotlib.pyplot as plt\n",
    "import seaborn as sns\n",
    "from datetime import datetime, timedelta\n",
    "import random\n",
    "\n",
    "# Configure plots\n",
    "plt.style.use(\"ggplot\")\n",
    "sns.set(font_scale=1.1)\n",
    "\n",
    "# For reproducibility\n",
    "np.random.seed(42)\n",
    "random.seed(42)"
   ]
  },
  {
   "cell_type": "markdown",
   "metadata": {},
   "source": [
    "# Define Constants and Assets Universe"
   ]
  },
  {
   "cell_type": "code",
   "execution_count": 11,
   "metadata": {},
   "outputs": [
    {
     "name": "stdout",
     "output_type": "stream",
     "text": [
      "(145, 4)\n"
     ]
    },
    {
     "data": {
      "text/html": [
       "<div>\n",
       "<style scoped>\n",
       "    .dataframe tbody tr th:only-of-type {\n",
       "        vertical-align: middle;\n",
       "    }\n",
       "\n",
       "    .dataframe tbody tr th {\n",
       "        vertical-align: top;\n",
       "    }\n",
       "\n",
       "    .dataframe thead th {\n",
       "        text-align: right;\n",
       "    }\n",
       "</style>\n",
       "<table border=\"1\" class=\"dataframe\">\n",
       "  <thead>\n",
       "    <tr style=\"text-align: right;\">\n",
       "      <th></th>\n",
       "      <th>ticker_id</th>\n",
       "      <th>asset_name</th>\n",
       "      <th>asset_type</th>\n",
       "      <th>provider</th>\n",
       "    </tr>\n",
       "  </thead>\n",
       "  <tbody>\n",
       "    <tr>\n",
       "      <th>0</th>\n",
       "      <td>SPY</td>\n",
       "      <td>SPDR S&amp;P 500</td>\n",
       "      <td>ETF</td>\n",
       "      <td>BlackRock</td>\n",
       "    </tr>\n",
       "    <tr>\n",
       "      <th>1</th>\n",
       "      <td>SPY</td>\n",
       "      <td>SPDR S&amp;P 500</td>\n",
       "      <td>ETF</td>\n",
       "      <td>Charles Schwab</td>\n",
       "    </tr>\n",
       "    <tr>\n",
       "      <th>2</th>\n",
       "      <td>SPY</td>\n",
       "      <td>SPDR S&amp;P 500</td>\n",
       "      <td>ETF</td>\n",
       "      <td>Vanguard</td>\n",
       "    </tr>\n",
       "    <tr>\n",
       "      <th>3</th>\n",
       "      <td>QQQ</td>\n",
       "      <td>Invesco QQQ Trust, Series 1</td>\n",
       "      <td>ETF</td>\n",
       "      <td>BlackRock</td>\n",
       "    </tr>\n",
       "    <tr>\n",
       "      <th>4</th>\n",
       "      <td>IVV</td>\n",
       "      <td>iShares Core S&amp;P 500 ETF</td>\n",
       "      <td>ETF</td>\n",
       "      <td>Charles Schwab</td>\n",
       "    </tr>\n",
       "    <tr>\n",
       "      <th>5</th>\n",
       "      <td>VOO</td>\n",
       "      <td>Vanguard S&amp;P 500 ETF</td>\n",
       "      <td>ETF</td>\n",
       "      <td>Charles Schwab</td>\n",
       "    </tr>\n",
       "    <tr>\n",
       "      <th>6</th>\n",
       "      <td>ARKK</td>\n",
       "      <td>ARK Innovation ETF</td>\n",
       "      <td>ETF</td>\n",
       "      <td>Charles Schwab</td>\n",
       "    </tr>\n",
       "    <tr>\n",
       "      <th>7</th>\n",
       "      <td>ARKK</td>\n",
       "      <td>ARK Innovation ETF</td>\n",
       "      <td>ETF</td>\n",
       "      <td>BlackRock</td>\n",
       "    </tr>\n",
       "    <tr>\n",
       "      <th>8</th>\n",
       "      <td>ARKK</td>\n",
       "      <td>ARK Innovation ETF</td>\n",
       "      <td>ETF</td>\n",
       "      <td>Vanguard</td>\n",
       "    </tr>\n",
       "    <tr>\n",
       "      <th>9</th>\n",
       "      <td>XLK</td>\n",
       "      <td>SPDR Select Sector Fund - Techn</td>\n",
       "      <td>ETF</td>\n",
       "      <td>BlackRock</td>\n",
       "    </tr>\n",
       "  </tbody>\n",
       "</table>\n",
       "</div>"
      ],
      "text/plain": [
       "  ticker_id                       asset_name asset_type        provider\n",
       "0       SPY                     SPDR S&P 500        ETF       BlackRock\n",
       "1       SPY                     SPDR S&P 500        ETF  Charles Schwab\n",
       "2       SPY                     SPDR S&P 500        ETF        Vanguard\n",
       "3       QQQ      Invesco QQQ Trust, Series 1        ETF       BlackRock\n",
       "4       IVV         iShares Core S&P 500 ETF        ETF  Charles Schwab\n",
       "5       VOO             Vanguard S&P 500 ETF        ETF  Charles Schwab\n",
       "6      ARKK               ARK Innovation ETF        ETF  Charles Schwab\n",
       "7      ARKK               ARK Innovation ETF        ETF       BlackRock\n",
       "8      ARKK               ARK Innovation ETF        ETF        Vanguard\n",
       "9       XLK  SPDR Select Sector Fund - Techn        ETF       BlackRock"
      ]
     },
     "execution_count": 11,
     "metadata": {},
     "output_type": "execute_result"
    }
   ],
   "source": [
    "import yfinance as yf\n",
    "\n",
    "# Sample set of real-world tickers (you can expand this later)\n",
    "real_tickers = [\n",
    "    # ETFs\n",
    "    \"SPY\", \"QQQ\", \"IVV\", \"VOO\", \"ARKK\", \"XLK\", \"SCHX\", \"DIA\",\n",
    "    \"IWM\", \"TLT\", \"BND\", \"EFA\", \"EEM\", \"XLF\", \"XLE\", \"XLV\", \"VNQ\", \"IEMG\",\n",
    "    \n",
    "    # Mutual Funds\n",
    "    \"FXAIX\", \"VFIAX\", \"VTSAX\", \"SWPPX\", \"VIGAX\", \"VIGRX\", \"SWTSX\", \"FZROX\",\n",
    "    \n",
    "    # Large Equities\n",
    "    \"AAPL\", \"MSFT\", \"GOOGL\", \"AMZN\", \"TSLA\", \"NVDA\", \"BRK-B\", \"META\", \"UNH\", \"JNJ\",\n",
    "    \"V\", \"PG\", \"XOM\", \"MA\", \"HD\", \"PFE\", \"CVX\", \"KO\", \"PEP\", \"LLY\",\n",
    "    \n",
    "    # Mid-cap/other\n",
    "    \"COST\", \"AVGO\", \"ADBE\", \"CSCO\", \"TMO\", \"CRM\", \"MRK\", \"INTC\", \"BAC\", \"WMT\",\n",
    "    \"ORCL\", \"ABBV\", \"ABT\", \"TXN\", \"MCD\", \"NKE\", \"QCOM\", \"MDT\", \"HON\", \"NEE\",\n",
    "    \"UPS\", \"T\", \"AMAT\", \"SBUX\", \"GE\", \"LOW\", \"CAT\", \"RTX\", \"DE\", \"GS\"\n",
    "]\n",
    "\n",
    "PROVIDERS = [\"BlackRock\", \"Vanguard\", \"Charles Schwab\"]\n",
    "\n",
    "metadata = []\n",
    "for ticker in real_tickers:\n",
    "    try:\n",
    "        t = yf.Ticker(ticker)\n",
    "        info = t.info\n",
    "        metadata.append({\n",
    "            \"ticker_id\": ticker,\n",
    "            \"asset_name\": info.get(\"shortName\", \"Unknown\"),\n",
    "            \"asset_type\": info.get(\"quoteType\", \"Unknown\"),\n",
    "        })\n",
    "    except Exception as e:\n",
    "        print(f\"Skipping {ticker}: {e}\")\n",
    "\n",
    "# Filter down to clean entries and create DataFrame\n",
    "base_assets = pd.DataFrame(metadata).dropna().drop_duplicates(\"ticker_id\").reset_index(drop=True)\n",
    "\n",
    "# Randomly assign each ticker to 1–3 providers\n",
    "rows = []\n",
    "for _, row in base_assets.iterrows():\n",
    "    assigned_providers = random.sample(PROVIDERS, random.randint(1, 3))\n",
    "    for provider in assigned_providers:\n",
    "        rows.append({\n",
    "            \"ticker_id\": row[\"ticker_id\"],\n",
    "            \"asset_name\": row[\"asset_name\"],\n",
    "            \"asset_type\": row[\"asset_type\"],\n",
    "            \"provider\": provider\n",
    "        })\n",
    "\n",
    "# Final asset universe DataFrame\n",
    "asset_universe = pd.DataFrame(rows).reset_index(drop=True)\n",
    "print(asset_universe.shape)\n",
    "asset_universe.head(10)\n"
   ]
  },
  {
   "cell_type": "markdown",
   "metadata": {},
   "source": [
    "# Simulate Daily Flow Table"
   ]
  },
  {
   "cell_type": "code",
   "execution_count": 27,
   "metadata": {},
   "outputs": [],
   "source": [
    "# Daily date range for 2024\n",
    "date_range = pd.date_range(start=\"2024-01-01\", end=\"2024-12-31\", freq=\"D\")\n",
    "\n",
    "# Initialize time series rows\n",
    "flow_rows = []\n",
    "\n",
    "for _, row in asset_universe.iterrows():\n",
    "    base_nav = np.random.uniform(20, 400)  # starting NAV\n",
    "    base_aum = np.random.uniform(1_000_000_000, 20_000_000_000)  # simulate initial AUM per asset-provider\n",
    "\n",
    "    for date in date_range:\n",
    "        # Simulate inflow/outflow as percentage of AUM\n",
    "        inflow = round(np.random.uniform(0, 0.02) * base_aum, 2)\n",
    "        outflow = round(np.random.uniform(0, 0.02) * base_aum, 2)\n",
    "        net_flow = round(inflow - outflow, 2)\n",
    "\n",
    "        # NAV drift\n",
    "        nav_change = np.random.normal(0, 0.003)  # small daily change\n",
    "        base_nav *= (1 + nav_change)\n",
    "        base_nav = round(base_nav, 2)\n",
    "\n",
    "        flow_rows.append({\n",
    "            \"ticker_id\": row[\"ticker_id\"],\n",
    "            \"asset_name\": row[\"asset_name\"],\n",
    "            \"asset_type\": row[\"asset_type\"],\n",
    "            \"provider\": row[\"provider\"],\n",
    "            \"date\": date,\n",
    "            \"inflow\": inflow,\n",
    "            \"outflow\": outflow,\n",
    "            \"net_flow\": net_flow,\n",
    "            \"nav\": base_nav\n",
    "        })\n",
    "\n",
    "# Create final daily flow table\n",
    "daily_flow_table = pd.DataFrame(flow_rows)\n"
   ]
  },
  {
   "cell_type": "code",
   "execution_count": 28,
   "metadata": {},
   "outputs": [
    {
     "data": {
      "text/plain": [
       "'../data/daily_flow_table.csv'"
      ]
     },
     "execution_count": 28,
     "metadata": {},
     "output_type": "execute_result"
    }
   ],
   "source": [
    "\n",
    "daily_flow_table_path = \"../data/daily_flow_table.csv\"\n",
    "daily_flow_table.to_csv(daily_flow_table_path, index=False)\n",
    "\n",
    "daily_flow_table_path"
   ]
  },
  {
   "cell_type": "markdown",
   "metadata": {},
   "source": [
    "# Pertubate To Generate External Tables"
   ]
  },
  {
   "cell_type": "code",
   "execution_count": 29,
   "metadata": {},
   "outputs": [
    {
     "data": {
      "image/png": "[encoded data removed]",
      "text/plain": [
       "<Figure size 1400x600 with 2 Axes>"
      ]
     },
     "metadata": {},
     "output_type": "display_data"
    }
   ],
   "source": [
    "def perturb_flows_only(df, inflow_shape=2.0, inflow_scale=1_500_000, outflow_shape=2.5, outflow_scale=1_000_000, seed=None):\n",
    "    modified = df.copy()\n",
    "\n",
    "    if seed is not None:\n",
    "        np.random.seed(seed)\n",
    "\n",
    "    # Generate Gamma-distributed noise for inflow and outflow\n",
    "    inflow_noise = np.random.gamma(shape=inflow_shape, scale=inflow_scale, size=len(modified))\n",
    "    outflow_noise = np.random.gamma(shape=outflow_shape, scale=outflow_scale, size=len(modified))\n",
    "\n",
    "    # Apply noise\n",
    "    modified[\"inflow\"] = (modified[\"inflow\"] + inflow_noise).round(2)\n",
    "    modified[\"outflow\"] = (modified[\"outflow\"] + outflow_noise).round(2)\n",
    "\n",
    "    # Recalculate net flow\n",
    "    modified[\"net_flow\"] = (modified[\"inflow\"] - modified[\"outflow\"]).round(2)\n",
    "\n",
    "    return modified\n",
    "\n",
    "# Generate perturbed Morningstar and Bloomberg datasets\n",
    "morningstar_df = perturb_flows_only(daily_flow_table, inflow_shape=2.0, inflow_scale=1_500_000, outflow_shape=2.5, outflow_scale=1_000_000, seed=1)\n",
    "bloomberg_df = perturb_flows_only(daily_flow_table, inflow_shape=2.2, inflow_scale=1_600_000, outflow_shape=2.7, outflow_scale=1_100_000, seed=2)\n",
    "\n",
    "# Save to CSV\n",
    "morningstar_path = \"../data/morningstar_flow_table_perturbed.csv\"\n",
    "bloomberg_path = \"../data/bloomberg_flow_table_perturbed.csv\"\n",
    "\n",
    "morningstar_df.to_csv(morningstar_path, index=False)\n",
    "bloomberg_df.to_csv(bloomberg_path, index=False)\n",
    "\n",
    "morningstar_path, bloomberg_path\n",
    "\n",
    "# Plot perturbation distributions\n",
    "fig, axes = plt.subplots(1, 2, figsize=(14, 6), sharey=True)\n",
    "\n",
    "sns.histplot(morningstar_df[\"net_flow\"], bins=50, kde=True, ax=axes[0], color=\"blue\")\n",
    "axes[0].set_title(\"Morningstar Net Flow Distribution\")\n",
    "axes[0].set_xlabel(\"Net Flow\")\n",
    "axes[0].set_ylabel(\"Frequency\")\n",
    "\n",
    "sns.histplot(bloomberg_df[\"net_flow\"], bins=50, kde=True, ax=axes[1], color=\"green\")\n",
    "axes[1].set_title(\"Bloomberg Net Flow Distribution\")\n",
    "axes[1].set_xlabel(\"Net Flow\")\n",
    "\n",
    "plt.tight_layout()\n",
    "plt.show()"
   ]
  },
  {
   "cell_type": "markdown",
   "metadata": {},
   "source": [
    "# Generate Aggregate Table"
   ]
  },
  {
   "cell_type": "code",
   "execution_count": 30,
   "metadata": {},
   "outputs": [
    {
     "data": {
      "text/html": [
       "<div>\n",
       "<style scoped>\n",
       "    .dataframe tbody tr th:only-of-type {\n",
       "        vertical-align: middle;\n",
       "    }\n",
       "\n",
       "    .dataframe tbody tr th {\n",
       "        vertical-align: top;\n",
       "    }\n",
       "\n",
       "    .dataframe thead th {\n",
       "        text-align: right;\n",
       "    }\n",
       "</style>\n",
       "<table border=\"1\" class=\"dataframe\">\n",
       "  <thead>\n",
       "    <tr style=\"text-align: right;\">\n",
       "      <th></th>\n",
       "      <th>ticker_id</th>\n",
       "      <th>provider</th>\n",
       "      <th>month</th>\n",
       "      <th>net_flow</th>\n",
       "      <th>total_assets</th>\n",
       "    </tr>\n",
       "  </thead>\n",
       "  <tbody>\n",
       "    <tr>\n",
       "      <th>0</th>\n",
       "      <td>AAPL</td>\n",
       "      <td>BlackRock</td>\n",
       "      <td>2023-12-01</td>\n",
       "      <td>0.000000e+00</td>\n",
       "      <td>1.624022e+09</td>\n",
       "    </tr>\n",
       "    <tr>\n",
       "      <th>145</th>\n",
       "      <td>AAPL</td>\n",
       "      <td>BlackRock</td>\n",
       "      <td>2024-01-01</td>\n",
       "      <td>1.750167e+08</td>\n",
       "      <td>1.799039e+09</td>\n",
       "    </tr>\n",
       "    <tr>\n",
       "      <th>146</th>\n",
       "      <td>AAPL</td>\n",
       "      <td>BlackRock</td>\n",
       "      <td>2024-02-01</td>\n",
       "      <td>1.377590e+08</td>\n",
       "      <td>1.936798e+09</td>\n",
       "    </tr>\n",
       "    <tr>\n",
       "      <th>147</th>\n",
       "      <td>AAPL</td>\n",
       "      <td>BlackRock</td>\n",
       "      <td>2024-03-01</td>\n",
       "      <td>-7.168560e+08</td>\n",
       "      <td>1.219942e+09</td>\n",
       "    </tr>\n",
       "    <tr>\n",
       "      <th>148</th>\n",
       "      <td>AAPL</td>\n",
       "      <td>BlackRock</td>\n",
       "      <td>2024-04-01</td>\n",
       "      <td>8.298894e+08</td>\n",
       "      <td>2.049831e+09</td>\n",
       "    </tr>\n",
       "  </tbody>\n",
       "</table>\n",
       "</div>"
      ],
      "text/plain": [
       "    ticker_id   provider      month      net_flow  total_assets\n",
       "0        AAPL  BlackRock 2023-12-01  0.000000e+00  1.624022e+09\n",
       "145      AAPL  BlackRock 2024-01-01  1.750167e+08  1.799039e+09\n",
       "146      AAPL  BlackRock 2024-02-01  1.377590e+08  1.936798e+09\n",
       "147      AAPL  BlackRock 2024-03-01 -7.168560e+08  1.219942e+09\n",
       "148      AAPL  BlackRock 2024-04-01  8.298894e+08  2.049831e+09"
      ]
     },
     "execution_count": 30,
     "metadata": {},
     "output_type": "execute_result"
    }
   ],
   "source": [
    "# Step 1: Aggregate net flow by month, ticker_id, provider\n",
    "monthly_net_flow = daily_flow_table.copy()\n",
    "monthly_net_flow[\"month\"] = monthly_net_flow[\"date\"].dt.to_period(\"M\").dt.to_timestamp()\n",
    "monthly_net_flow = monthly_net_flow.groupby([\"ticker_id\", \"provider\", \"month\"])[\"net_flow\"].sum().reset_index()\n",
    "\n",
    "# Step 2: Add one month prior (e.g. Dec 2023) with random starting value\n",
    "first_month = monthly_net_flow[\"month\"].min()\n",
    "starting_month = (first_month - pd.DateOffset(months=1)).replace(day=1)\n",
    "\n",
    "# Create initial starting value per asset\n",
    "starting_rows = []\n",
    "for (ticker, provider), group in monthly_net_flow.groupby([\"ticker_id\", \"provider\"]):\n",
    "    starting_assets = round(np.random.uniform(100_000_000, 2_000_000_000), 2)\n",
    "    starting_rows.append({\n",
    "        \"ticker_id\": ticker,\n",
    "        \"provider\": provider,\n",
    "        \"month\": starting_month,\n",
    "        \"net_flow\": 0.0,\n",
    "        \"total_assets\": starting_assets\n",
    "    })\n",
    "\n",
    "# Create DataFrame for starting month\n",
    "starting_df = pd.DataFrame(starting_rows)\n",
    "\n",
    "# Step 3: Combine and compute running total\n",
    "combined = pd.concat([starting_df, monthly_net_flow], ignore_index=True)\n",
    "combined = combined.sort_values(by=[\"ticker_id\", \"provider\", \"month\"])\n",
    "\n",
    "# Step 4: Compute total_assets as cumulative sum of net_flow starting from initial\n",
    "combined[\"total_assets\"] = combined.groupby([\"ticker_id\", \"provider\"])[\"net_flow\"].cumsum() + \\\n",
    "                           combined.groupby([\"ticker_id\", \"provider\"])[\"total_assets\"].ffill()\n",
    "\n",
    "# Fill any remaining total_assets\n",
    "combined[\"total_assets\"] = combined.groupby([\"ticker_id\", \"provider\"])[\"total_assets\"].ffill().round(2)\n",
    "\n",
    "# Final monthly AUM table\n",
    "monthly_aum_table = combined[[\"ticker_id\", \"provider\", \"month\", \"net_flow\", \"total_assets\"]].copy()\n",
    "monthly_aum_table.head()\n"
   ]
  },
  {
   "cell_type": "code",
   "execution_count": 31,
   "metadata": {},
   "outputs": [
    {
     "data": {
      "text/plain": [
       "'../data/monthly_aum_table.csv'"
      ]
     },
     "execution_count": 31,
     "metadata": {},
     "output_type": "execute_result"
    }
   ],
   "source": [
    "# Save the monthly AUM table to CSV\n",
    "monthly_aum_path = \"../data/monthly_aum_table.csv\"\n",
    "monthly_aum_table.to_csv(monthly_aum_path, index=False)\n",
    "\n",
    "monthly_aum_path\n"
   ]
  }
 ],
 "metadata": {
  "kernelspec": {
   "display_name": "Python 3",
   "language": "python",
   "name": "python3"
  },
  "language_info": {
   "codemirror_mode": {
    "name": "ipython",
    "version": 3
   },
   "file_extension": ".py",
   "mimetype": "text/x-python",
   "name": "python",
   "nbconvert_exporter": "python",
   "pygments_lexer": "ipython3",
   "version": "3.12.2"
  }
 },
 "nbformat": 4,
 "nbformat_minor": 2
}
